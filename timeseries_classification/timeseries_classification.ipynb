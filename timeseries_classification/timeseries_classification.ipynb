{
 "cells": [
  {
   "cell_type": "code",
   "execution_count": 3,
   "id": "b67705bb-26e9-4a69-9208-56b828f62a6f",
   "metadata": {},
   "outputs": [
    {
     "name": "stderr",
     "output_type": "stream",
     "text": [
      "2022-04-22 08:43:10.819584: W tensorflow/stream_executor/platform/default/dso_loader.cc:64] Could not load dynamic library 'libcudart.so.11.0'; dlerror: libcudart.so.11.0: cannot open shared object file: No such file or directory\n",
      "2022-04-22 08:43:10.819634: I tensorflow/stream_executor/cuda/cudart_stub.cc:29] Ignore above cudart dlerror if you do not have a GPU set up on your machine.\n"
     ]
    }
   ],
   "source": [
    "##Based on this article:\n",
    "##https://keras.io/examples/timeseries/timeseries_classification_from_scratch/#setup\n",
    "\n",
    "\n",
    "#import sys\n",
    "#!{sys.executable} -m pip install tensorflow\n",
    "from tensorflow import keras\n",
    "import numpy as np\n",
    "import matplotlib.pyplot as plt\n",
    "import pandas as pd"
   ]
  },
  {
   "cell_type": "code",
   "execution_count": 4,
   "id": "987de29f-c9a1-463c-ad1f-fa157c9472a7",
   "metadata": {},
   "outputs": [],
   "source": [
    "import json\n",
    "# Opening JSON file with labels. \n",
    "#the key is a combination of long - lat and the value is either 0 or 1. The labels are created based on data from bleaching DB where % bleaching > 60 % == 1 else 0. \n",
    "#The label is taken from the latest sample of that location\n",
    "#The coordinates is the coordinates found in the sea sureface temperature dataset, and is not always an exact match to the cordinates found in Bleaching DB (the values were rounded to 1 decimal to find matches in both datasets). \n",
    "f = open('/home/jovyan/Ocean Data Platform Tutorials/data/NOAA Coral Reef Watch/label_dict2.json',)\n",
    "target_dict = json.load(f)\n",
    "f.close()"
   ]
  },
  {
   "cell_type": "code",
   "execution_count": 26,
   "id": "d9151c06-f9d0-4c2a-9f6d-8d679d1597c5",
   "metadata": {},
   "outputs": [],
   "source": [
    "#target_dict"
   ]
  },
  {
   "cell_type": "code",
   "execution_count": 5,
   "id": "1a3bd333-99d4-4564-a2ae-687525c033d9",
   "metadata": {},
   "outputs": [
    {
     "ename": "FileNotFoundError",
     "evalue": "[Errno 2] No such file or directory: 'test_data'",
     "output_type": "error",
     "traceback": [
      "\u001b[0;31m---------------------------------------------------------------------------\u001b[0m",
      "\u001b[0;31mFileNotFoundError\u001b[0m                         Traceback (most recent call last)",
      "Input \u001b[0;32mIn [5]\u001b[0m, in \u001b[0;36m<cell line: 6>\u001b[0;34m()\u001b[0m\n\u001b[1;32m      4\u001b[0m sequences2 \u001b[38;5;241m=\u001b[39m \u001b[38;5;28mlist\u001b[39m()\n\u001b[1;32m      5\u001b[0m targets2 \u001b[38;5;241m=\u001b[39m \u001b[38;5;28mlist\u001b[39m()\n\u001b[0;32m----> 6\u001b[0m \u001b[43mos\u001b[49m\u001b[38;5;241;43m.\u001b[39;49m\u001b[43mchdir\u001b[49m\u001b[43m(\u001b[49m\u001b[38;5;124;43m\"\u001b[39;49m\u001b[38;5;124;43mtest_data\u001b[39;49m\u001b[38;5;124;43m\"\u001b[39;49m\u001b[43m)\u001b[49m\n\u001b[1;32m      8\u001b[0m \u001b[38;5;66;03m#Training data: daily sea surface temperature timeseries from 2000-2020 for given locations\u001b[39;00m\n\u001b[1;32m     10\u001b[0m \u001b[38;5;28;01mfor\u001b[39;00m file \u001b[38;5;129;01min\u001b[39;00m glob\u001b[38;5;241m.\u001b[39mglob(\u001b[38;5;124m\"\u001b[39m\u001b[38;5;124m*.csv\u001b[39m\u001b[38;5;124m\"\u001b[39m):\n",
      "\u001b[0;31mFileNotFoundError\u001b[0m: [Errno 2] No such file or directory: 'test_data'"
     ]
    }
   ],
   "source": [
    "import glob, os\n",
    "sequences = list()\n",
    "targets = list()\n",
    "sequences2 = list()\n",
    "targets2 = list()\n",
    "os.chdir(\"../test_data\")\n",
    "\n",
    "#Training data: daily sea surface temperature timeseries from 2000-2020 for given locations\n",
    "\n",
    "for file in glob.glob(\"*.csv\"):\n",
    "    df = pd.read_csv(file, header=0)\n",
    "    values = df['0'].fillna(0)\n",
    "    filename = file.replace(\"-Copy1\",\"\").replace(\"-Copy2\",\"\").replace(\"-Copy3\",\"\").rstrip(\".csv\")\n",
    "    print(filename)\n",
    "    if filename in target_dict:\n",
    "        #seperated in 2 list, to create a balanced training set\n",
    "        print (target_dict[name])\n",
    "        if target_dict[name] == 0:\n",
    "            sequences2.append(np.array(values).reshape(-1, 1))\n",
    "            targets2.append(target_dict[name])\n",
    "        else:\n",
    "            targets.append(target_dict[name])\n",
    "            sequences.append(np.array(values).reshape(-1, 1))\n",
    "            "
   ]
  },
  {
   "cell_type": "code",
   "execution_count": null,
   "id": "d6e499a0-f4f2-45cc-bcbc-b00dc5cae6b8",
   "metadata": {},
   "outputs": [],
   "source": [
    "len(targets)"
   ]
  },
  {
   "cell_type": "code",
   "execution_count": null,
   "id": "69bd29f0-0596-484a-a69f-8356d13b4850",
   "metadata": {},
   "outputs": [],
   "source": [
    "train = [sequences[i] for i in range(0,115)] + [sequences2[i] for i in range(0,115)] #equal amount of 1s and 0s to balance the training set\n",
    "test = [sequences[i] for i in range(115,len(sequences))]+ [sequences2[i] for i in range(115,len(sequences))]\n",
    "\n",
    "train_target = [targets[i] for i in range(0, 115)] + [targets2[i] for i in range(0,115)]\n",
    "test_target = [targets[i] for i in range(115,len(sequences))] + [targets2[i] for i in range(115,len(sequences))]"
   ]
  },
  {
   "cell_type": "code",
   "execution_count": null,
   "id": "83e3ff92-6317-413b-9b55-0ee309c1bb55",
   "metadata": {},
   "outputs": [],
   "source": [
    "x_train = np.array(train)\n",
    "x_test = np.array(test)\n",
    "y_train = np.array(train_target)\n",
    "y_test = np.array(test_target)"
   ]
  },
  {
   "cell_type": "code",
   "execution_count": null,
   "id": "b07d1079-1fba-4498-9867-bab5edff6bca",
   "metadata": {},
   "outputs": [
    {
     "ename": "AttributeError",
     "evalue": "'function' object has no attribute 'scatter'",
     "output_type": "error",
     "traceback": [
      "\u001b[0;31m---------------------------------------------------------------------------\u001b[0m",
      "\u001b[0;31mAttributeError\u001b[0m                            Traceback (most recent call last)",
      "Input \u001b[0;32mIn [74]\u001b[0m, in \u001b[0;36m<cell line: 4>\u001b[0;34m()\u001b[0m\n\u001b[1;32m      5\u001b[0m     c_x_train \u001b[38;5;241m=\u001b[39m x_train[y_train \u001b[38;5;241m==\u001b[39m c]\n\u001b[1;32m      6\u001b[0m     \u001b[38;5;28;01mfor\u001b[39;00m i \u001b[38;5;129;01min\u001b[39;00m \u001b[38;5;28mrange\u001b[39m(\u001b[38;5;241m3\u001b[39m):\n\u001b[0;32m----> 7\u001b[0m         \u001b[43mplt\u001b[49m\u001b[38;5;241;43m.\u001b[39;49m\u001b[43mplot\u001b[49m\u001b[38;5;241;43m.\u001b[39;49m\u001b[43mscatter\u001b[49m(c_x_train[i], label\u001b[38;5;241m=\u001b[39m\u001b[38;5;124m\"\u001b[39m\u001b[38;5;124mclass \u001b[39m\u001b[38;5;124m\"\u001b[39m \u001b[38;5;241m+\u001b[39m \u001b[38;5;28mstr\u001b[39m(c))\n\u001b[1;32m      9\u001b[0m ax\u001b[38;5;241m=\u001b[39mplt\u001b[38;5;241m.\u001b[39mgca()\n\u001b[1;32m     10\u001b[0m ax\u001b[38;5;241m.\u001b[39maxis([\u001b[38;5;241m0\u001b[39m,\u001b[38;5;241m7200\u001b[39m,\u001b[38;5;241m22\u001b[39m,\u001b[38;5;241m32\u001b[39m])\n",
      "\u001b[0;31mAttributeError\u001b[0m: 'function' object has no attribute 'scatter'"
     ]
    },
    {
     "data": {
      "text/plain": [
       "<Figure size 2160x504 with 0 Axes>"
      ]
     },
     "metadata": {},
     "output_type": "display_data"
    }
   ],
   "source": [
    "classes = np.unique(np.concatenate((y_train, y_test), axis=0))\n",
    "\n",
    "plt.figure(figsize=(30,7))\n",
    "for c in classes:\n",
    "    c_x_train = x_train[y_train == c]\n",
    "    for i in range(3):\n",
    "        plt.plot.scatter(c_x_train[i], label=\"class \" + str(c))\n",
    "    \n",
    "ax=plt.gca()\n",
    "ax.axis([0,7200,22,32])\n",
    "\n",
    "plt.legend(loc=\"best\")\n",
    "plt.show()\n",
    "plt.close()"
   ]
  },
  {
   "cell_type": "code",
   "execution_count": null,
   "id": "806a9693-457d-45ab-86dc-10baaafdafeb",
   "metadata": {},
   "outputs": [],
   "source": [
    "x_train = x_train.reshape((x_train.shape[0], x_train.shape[1], 1))\n",
    "x_test = x_test.reshape((x_test.shape[0], x_test.shape[1], 1))"
   ]
  },
  {
   "cell_type": "code",
   "execution_count": null,
   "id": "faba987b-f523-4ffe-ace9-b1825a0e6630",
   "metadata": {},
   "outputs": [],
   "source": [
    "num_classes = len(np.unique(y_train))"
   ]
  },
  {
   "cell_type": "code",
   "execution_count": null,
   "id": "ef532a3e-e270-4ab8-9c86-0b911978e84e",
   "metadata": {},
   "outputs": [],
   "source": [
    "idx = np.random.permutation(len(x_train))\n",
    "x_train = x_train[idx]\n",
    "y_train = y_train[idx]"
   ]
  },
  {
   "cell_type": "code",
   "execution_count": null,
   "id": "d06a529a-7b3b-4382-b723-fa52ad2a6291",
   "metadata": {},
   "outputs": [
    {
     "name": "stdout",
     "output_type": "stream",
     "text": [
      "You must install pydot (`pip install pydot`) and install graphviz (see instructions at https://graphviz.gitlab.io/download/) for plot_model/model_to_dot to work.\n"
     ]
    }
   ],
   "source": [
    "def make_model(input_shape):\n",
    "    input_layer = keras.layers.Input(input_shape)\n",
    "\n",
    "    conv1 = keras.layers.Conv1D(filters=64, kernel_size=10, padding=\"same\")(input_layer)\n",
    "    conv1 = keras.layers.ReLU()(conv1)\n",
    "    conv1 = keras.layers.BatchNormalization(axis=1, momentum = 0.1)(conv1)\n",
    "\n",
    "    conv2 = keras.layers.Conv1D(filters=64, kernel_size=10, padding=\"same\")(conv1)\n",
    "    conv2 = keras.layers.ReLU()(conv2)\n",
    "    conv2 = keras.layers.BatchNormalization(axis=1, momentum = 0.1)(conv2)\n",
    "\n",
    "    conv3 = keras.layers.Conv1D(filters=64, kernel_size=10, padding=\"same\")(conv2)\n",
    "    conv3 = keras.layers.ReLU()(conv3)\n",
    "    conv3 = keras.layers.BatchNormalization(axis=1, momentum = 0.1)(conv3)\n",
    "\n",
    "    gap = keras.layers.GlobalAveragePooling1D()(conv3)\n",
    "\n",
    "    output_layer = keras.layers.Dense(num_classes, activation=\"softmax\")(gap)\n",
    "\n",
    "    return keras.models.Model(inputs=input_layer, outputs=output_layer)\n",
    "\n",
    "\n",
    "model = make_model(input_shape=x_train.shape[1:])\n",
    "keras.utils.plot_model(model, show_shapes=True)"
   ]
  },
  {
   "cell_type": "code",
   "execution_count": null,
   "id": "34c42c60-4c79-4d6a-b7d6-3648963f2f52",
   "metadata": {},
   "outputs": [
    {
     "name": "stdout",
     "output_type": "stream",
     "text": [
      "Epoch 1/200\n",
      "19/19 [==============================] - 17s 858ms/step - loss: 0.8690 - sparse_categorical_accuracy: 0.5870 - val_loss: 0.6297 - val_sparse_categorical_accuracy: 0.6739 - lr: 0.0010\n",
      "Epoch 2/200\n",
      "19/19 [==============================] - 16s 850ms/step - loss: 0.6868 - sparse_categorical_accuracy: 0.5598 - val_loss: 0.6475 - val_sparse_categorical_accuracy: 0.6739 - lr: 0.0010\n",
      "Epoch 3/200\n",
      "19/19 [==============================] - 16s 839ms/step - loss: 0.6847 - sparse_categorical_accuracy: 0.5815 - val_loss: 0.7096 - val_sparse_categorical_accuracy: 0.4565 - lr: 0.0010\n",
      "Epoch 4/200\n",
      "19/19 [==============================] - 16s 845ms/step - loss: 0.6676 - sparse_categorical_accuracy: 0.5707 - val_loss: 0.6303 - val_sparse_categorical_accuracy: 0.6739 - lr: 0.0010\n",
      "Epoch 5/200\n",
      "19/19 [==============================] - 16s 843ms/step - loss: 0.6689 - sparse_categorical_accuracy: 0.4946 - val_loss: 0.6203 - val_sparse_categorical_accuracy: 0.6739 - lr: 0.0010\n",
      "Epoch 6/200\n",
      "19/19 [==============================] - 16s 834ms/step - loss: 0.6648 - sparse_categorical_accuracy: 0.5924 - val_loss: 0.6523 - val_sparse_categorical_accuracy: 0.6739 - lr: 0.0010\n",
      "Epoch 7/200\n",
      "19/19 [==============================] - 16s 834ms/step - loss: 0.6718 - sparse_categorical_accuracy: 0.5978 - val_loss: 0.6204 - val_sparse_categorical_accuracy: 0.6739 - lr: 0.0010\n",
      "Epoch 8/200\n",
      "19/19 [==============================] - 16s 854ms/step - loss: 0.6704 - sparse_categorical_accuracy: 0.5924 - val_loss: 0.6252 - val_sparse_categorical_accuracy: 0.6739 - lr: 0.0010\n",
      "Epoch 9/200\n",
      "19/19 [==============================] - 16s 855ms/step - loss: 0.6623 - sparse_categorical_accuracy: 0.5924 - val_loss: 0.6204 - val_sparse_categorical_accuracy: 0.6739 - lr: 0.0010\n",
      "Epoch 10/200\n",
      "19/19 [==============================] - 16s 839ms/step - loss: 0.6682 - sparse_categorical_accuracy: 0.5598 - val_loss: 0.6256 - val_sparse_categorical_accuracy: 0.6739 - lr: 0.0010\n",
      "Epoch 11/200\n",
      "19/19 [==============================] - 16s 845ms/step - loss: 0.6728 - sparse_categorical_accuracy: 0.4837 - val_loss: 0.6251 - val_sparse_categorical_accuracy: 0.6739 - lr: 0.0010\n",
      "Epoch 12/200\n",
      "19/19 [==============================] - 16s 850ms/step - loss: 0.6689 - sparse_categorical_accuracy: 0.5217 - val_loss: 0.6428 - val_sparse_categorical_accuracy: 0.6739 - lr: 0.0010\n",
      "Epoch 13/200\n",
      "19/19 [==============================] - 16s 849ms/step - loss: 0.6624 - sparse_categorical_accuracy: 0.5924 - val_loss: 0.6416 - val_sparse_categorical_accuracy: 0.6739 - lr: 0.0010\n",
      "Epoch 14/200\n",
      "19/19 [==============================] - 16s 850ms/step - loss: 0.6571 - sparse_categorical_accuracy: 0.5924 - val_loss: 0.6361 - val_sparse_categorical_accuracy: 0.6739 - lr: 0.0010\n",
      "Epoch 15/200\n",
      "19/19 [==============================] - 16s 848ms/step - loss: 0.6684 - sparse_categorical_accuracy: 0.5272 - val_loss: 0.6258 - val_sparse_categorical_accuracy: 0.6739 - lr: 0.0010\n",
      "Epoch 16/200\n",
      "19/19 [==============================] - 16s 850ms/step - loss: 0.6652 - sparse_categorical_accuracy: 0.5924 - val_loss: 0.6301 - val_sparse_categorical_accuracy: 0.6739 - lr: 0.0010\n",
      "Epoch 17/200\n",
      "19/19 [==============================] - 16s 839ms/step - loss: 0.6702 - sparse_categorical_accuracy: 0.5543 - val_loss: 0.6226 - val_sparse_categorical_accuracy: 0.6739 - lr: 0.0010\n",
      "Epoch 18/200\n",
      "19/19 [==============================] - 16s 855ms/step - loss: 0.6560 - sparse_categorical_accuracy: 0.5924 - val_loss: 0.6313 - val_sparse_categorical_accuracy: 0.6739 - lr: 0.0010\n",
      "Epoch 19/200\n",
      "19/19 [==============================] - 16s 850ms/step - loss: 0.6600 - sparse_categorical_accuracy: 0.5217 - val_loss: 0.6324 - val_sparse_categorical_accuracy: 0.6739 - lr: 0.0010\n",
      "Epoch 20/200\n",
      "19/19 [==============================] - 16s 844ms/step - loss: 0.6624 - sparse_categorical_accuracy: 0.5924 - val_loss: 0.6319 - val_sparse_categorical_accuracy: 0.6739 - lr: 0.0010\n",
      "Epoch 21/200\n",
      "19/19 [==============================] - 16s 839ms/step - loss: 0.6689 - sparse_categorical_accuracy: 0.5326 - val_loss: 0.6337 - val_sparse_categorical_accuracy: 0.6739 - lr: 0.0010\n",
      "Epoch 22/200\n",
      "19/19 [==============================] - 16s 862ms/step - loss: 0.6581 - sparse_categorical_accuracy: 0.5924 - val_loss: 0.6396 - val_sparse_categorical_accuracy: 0.6739 - lr: 0.0010\n",
      "Epoch 23/200\n",
      "19/19 [==============================] - 16s 855ms/step - loss: 0.6614 - sparse_categorical_accuracy: 0.5924 - val_loss: 0.6386 - val_sparse_categorical_accuracy: 0.6739 - lr: 0.0010\n",
      "Epoch 24/200\n",
      "19/19 [==============================] - 16s 861ms/step - loss: 0.6600 - sparse_categorical_accuracy: 0.5272 - val_loss: 0.6353 - val_sparse_categorical_accuracy: 0.6739 - lr: 0.0010\n",
      "Epoch 25/200\n",
      "19/19 [==============================] - 16s 839ms/step - loss: 0.6596 - sparse_categorical_accuracy: 0.5924 - val_loss: 0.6351 - val_sparse_categorical_accuracy: 0.6739 - lr: 0.0010\n",
      "Epoch 26/200\n",
      "19/19 [==============================] - 16s 843ms/step - loss: 0.6527 - sparse_categorical_accuracy: 0.5924 - val_loss: 0.6409 - val_sparse_categorical_accuracy: 0.6739 - lr: 5.0000e-04\n",
      "Epoch 27/200\n",
      "19/19 [==============================] - 16s 855ms/step - loss: 0.6539 - sparse_categorical_accuracy: 0.5924 - val_loss: 0.6418 - val_sparse_categorical_accuracy: 0.6739 - lr: 5.0000e-04\n",
      "Epoch 28/200\n",
      "19/19 [==============================] - 16s 861ms/step - loss: 0.6565 - sparse_categorical_accuracy: 0.5924 - val_loss: 0.6398 - val_sparse_categorical_accuracy: 0.6739 - lr: 5.0000e-04\n",
      "Epoch 29/200\n",
      "19/19 [==============================] - 16s 860ms/step - loss: 0.6551 - sparse_categorical_accuracy: 0.5924 - val_loss: 0.6313 - val_sparse_categorical_accuracy: 0.6739 - lr: 5.0000e-04\n",
      "Epoch 30/200\n",
      "19/19 [==============================] - 16s 861ms/step - loss: 0.6587 - sparse_categorical_accuracy: 0.5924 - val_loss: 0.6222 - val_sparse_categorical_accuracy: 0.6739 - lr: 5.0000e-04\n",
      "Epoch 31/200\n",
      "19/19 [==============================] - 16s 862ms/step - loss: 0.6631 - sparse_categorical_accuracy: 0.5598 - val_loss: 0.6436 - val_sparse_categorical_accuracy: 0.6739 - lr: 5.0000e-04\n",
      "Epoch 32/200\n",
      "19/19 [==============================] - 16s 856ms/step - loss: 0.6580 - sparse_categorical_accuracy: 0.5924 - val_loss: 0.6260 - val_sparse_categorical_accuracy: 0.6739 - lr: 5.0000e-04\n",
      "Epoch 33/200\n",
      "19/19 [==============================] - 16s 855ms/step - loss: 0.6578 - sparse_categorical_accuracy: 0.5924 - val_loss: 0.6406 - val_sparse_categorical_accuracy: 0.6739 - lr: 5.0000e-04\n",
      "Epoch 34/200\n",
      "19/19 [==============================] - 17s 878ms/step - loss: 0.6557 - sparse_categorical_accuracy: 0.5924 - val_loss: 0.6372 - val_sparse_categorical_accuracy: 0.6739 - lr: 5.0000e-04\n",
      "Epoch 35/200\n",
      "19/19 [==============================] - 17s 873ms/step - loss: 0.6563 - sparse_categorical_accuracy: 0.5924 - val_loss: 0.6355 - val_sparse_categorical_accuracy: 0.6739 - lr: 5.0000e-04\n",
      "Epoch 36/200\n",
      "19/19 [==============================] - 17s 877ms/step - loss: 0.6615 - sparse_categorical_accuracy: 0.5924 - val_loss: 0.6253 - val_sparse_categorical_accuracy: 0.6739 - lr: 5.0000e-04\n",
      "Epoch 37/200\n",
      "19/19 [==============================] - 17s 868ms/step - loss: 0.6528 - sparse_categorical_accuracy: 0.5924 - val_loss: 0.6469 - val_sparse_categorical_accuracy: 0.6739 - lr: 5.0000e-04\n",
      "Epoch 38/200\n",
      "19/19 [==============================] - 16s 861ms/step - loss: 0.6581 - sparse_categorical_accuracy: 0.5924 - val_loss: 0.6343 - val_sparse_categorical_accuracy: 0.6739 - lr: 5.0000e-04\n",
      "Epoch 39/200\n",
      "19/19 [==============================] - 16s 850ms/step - loss: 0.6546 - sparse_categorical_accuracy: 0.5924 - val_loss: 0.6321 - val_sparse_categorical_accuracy: 0.6739 - lr: 5.0000e-04\n",
      "Epoch 40/200\n",
      "19/19 [==============================] - 16s 855ms/step - loss: 0.6538 - sparse_categorical_accuracy: 0.5924 - val_loss: 0.6303 - val_sparse_categorical_accuracy: 0.6739 - lr: 5.0000e-04\n",
      "Epoch 41/200\n",
      "19/19 [==============================] - 16s 867ms/step - loss: 0.6593 - sparse_categorical_accuracy: 0.5924 - val_loss: 0.6282 - val_sparse_categorical_accuracy: 0.6739 - lr: 5.0000e-04\n",
      "Epoch 42/200\n",
      "19/19 [==============================] - 16s 866ms/step - loss: 0.6615 - sparse_categorical_accuracy: 0.5598 - val_loss: 0.6483 - val_sparse_categorical_accuracy: 0.6739 - lr: 5.0000e-04\n",
      "Epoch 43/200\n",
      "19/19 [==============================] - 16s 850ms/step - loss: 0.6535 - sparse_categorical_accuracy: 0.5924 - val_loss: 0.6314 - val_sparse_categorical_accuracy: 0.6739 - lr: 5.0000e-04\n",
      "Epoch 44/200\n",
      "19/19 [==============================] - 16s 845ms/step - loss: 0.6580 - sparse_categorical_accuracy: 0.5924 - val_loss: 0.6397 - val_sparse_categorical_accuracy: 0.6739 - lr: 5.0000e-04\n",
      "Epoch 45/200\n",
      "19/19 [==============================] - 16s 868ms/step - loss: 0.6537 - sparse_categorical_accuracy: 0.5924 - val_loss: 0.6344 - val_sparse_categorical_accuracy: 0.6739 - lr: 5.0000e-04\n",
      "Epoch 46/200\n",
      "19/19 [==============================] - 16s 862ms/step - loss: 0.6546 - sparse_categorical_accuracy: 0.5924 - val_loss: 0.6229 - val_sparse_categorical_accuracy: 0.6739 - lr: 2.5000e-04\n",
      "Epoch 47/200\n",
      "19/19 [==============================] - 16s 855ms/step - loss: 0.6537 - sparse_categorical_accuracy: 0.5924 - val_loss: 0.6380 - val_sparse_categorical_accuracy: 0.6739 - lr: 2.5000e-04\n",
      "Epoch 48/200\n",
      "19/19 [==============================] - 16s 861ms/step - loss: 0.6554 - sparse_categorical_accuracy: 0.5924 - val_loss: 0.6362 - val_sparse_categorical_accuracy: 0.6739 - lr: 2.5000e-04\n",
      "Epoch 49/200\n",
      "19/19 [==============================] - 16s 855ms/step - loss: 0.6541 - sparse_categorical_accuracy: 0.5924 - val_loss: 0.6316 - val_sparse_categorical_accuracy: 0.6739 - lr: 2.5000e-04\n",
      "Epoch 50/200\n",
      "19/19 [==============================] - 16s 861ms/step - loss: 0.6543 - sparse_categorical_accuracy: 0.5924 - val_loss: 0.6269 - val_sparse_categorical_accuracy: 0.6739 - lr: 2.5000e-04\n",
      "Epoch 51/200\n",
      "19/19 [==============================] - 16s 849ms/step - loss: 0.6558 - sparse_categorical_accuracy: 0.5924 - val_loss: 0.6380 - val_sparse_categorical_accuracy: 0.6739 - lr: 2.5000e-04\n",
      "Epoch 52/200\n",
      "19/19 [==============================] - 16s 855ms/step - loss: 0.6540 - sparse_categorical_accuracy: 0.5924 - val_loss: 0.6287 - val_sparse_categorical_accuracy: 0.6739 - lr: 2.5000e-04\n",
      "Epoch 53/200\n",
      "19/19 [==============================] - 17s 883ms/step - loss: 0.6576 - sparse_categorical_accuracy: 0.5924 - val_loss: 0.6347 - val_sparse_categorical_accuracy: 0.6739 - lr: 2.5000e-04\n",
      "Epoch 54/200\n",
      "19/19 [==============================] - 16s 866ms/step - loss: 0.6539 - sparse_categorical_accuracy: 0.5924 - val_loss: 0.6379 - val_sparse_categorical_accuracy: 0.6739 - lr: 2.5000e-04\n",
      "Epoch 55/200\n",
      "19/19 [==============================] - 16s 849ms/step - loss: 0.6550 - sparse_categorical_accuracy: 0.5924 - val_loss: 0.6359 - val_sparse_categorical_accuracy: 0.6739 - lr: 2.5000e-04\n",
      "Epoch 55: early stopping\n"
     ]
    }
   ],
   "source": [
    "epochs = 200\n",
    "batch_size = 10\n",
    "\n",
    "callbacks = [\n",
    "    keras.callbacks.ModelCheckpoint(\n",
    "        \"best_model.h5\", save_best_only=True, monitor=\"val_loss\"\n",
    "    ),\n",
    "    keras.callbacks.ReduceLROnPlateau(\n",
    "        monitor=\"val_loss\", factor=0.5, patience=20, min_lr=0.0001\n",
    "    ),\n",
    "    keras.callbacks.EarlyStopping(monitor=\"val_loss\", patience=50, verbose=1),\n",
    "]\n",
    "model.compile(\n",
    "    optimizer=\"adam\",\n",
    "    loss=\"sparse_categorical_crossentropy\",\n",
    "    metrics=[\"sparse_categorical_accuracy\"],\n",
    ")\n",
    "history = model.fit(\n",
    "    x_train,\n",
    "    y_train,\n",
    "    batch_size=batch_size,\n",
    "    epochs=epochs,\n",
    "    callbacks=callbacks,\n",
    "    validation_split=0.2,\n",
    "    verbose=1,\n",
    ")"
   ]
  },
  {
   "cell_type": "code",
   "execution_count": null,
   "id": "ffd2147e-946b-41e7-aba5-0e58d4e3a9b4",
   "metadata": {},
   "outputs": [
    {
     "name": "stdout",
     "output_type": "stream",
     "text": [
      "2/2 [==============================] - 1s 98ms/step - loss: 0.6321 - sparse_categorical_accuracy: 0.6429\n",
      "Test accuracy 0.6428571343421936\n",
      "Test loss 0.6321102976799011\n"
     ]
    }
   ],
   "source": [
    "model = keras.models.load_model(\"best_model.h5\")\n",
    "\n",
    "test_loss, test_acc = model.evaluate(x_test, y_test)\n",
    "\n",
    "print(\"Test accuracy\", test_acc)\n",
    "print(\"Test loss\", test_loss)"
   ]
  },
  {
   "cell_type": "code",
   "execution_count": null,
   "id": "016155ba-cc6a-44f4-9295-979148f82b7d",
   "metadata": {},
   "outputs": [
    {
     "data": {
      "image/png": "[encoded data removed]",
      "text/plain": [
       "<Figure size 432x288 with 1 Axes>"
      ]
     },
     "metadata": {
      "needs_background": "light"
     },
     "output_type": "display_data"
    }
   ],
   "source": [
    "metric = \"sparse_categorical_accuracy\"\n",
    "plt.figure()\n",
    "plt.plot(history.history[metric])\n",
    "plt.plot(history.history[\"val_\" + metric])\n",
    "plt.title(\"model \" + metric)\n",
    "plt.ylabel(metric, fontsize=\"large\")\n",
    "plt.xlabel(\"epoch\", fontsize=\"large\")\n",
    "plt.legend([\"train\", \"val\"], loc=\"best\")\n",
    "plt.show()\n",
    "plt.close()"
   ]
  },
  {
   "cell_type": "code",
   "execution_count": null,
   "id": "aeb84040-46d7-411a-9522-51d48062d194",
   "metadata": {},
   "outputs": [],
   "source": []
  }
 ],
 "metadata": {
  "kernelspec": {
   "display_name": "Python 3 (ipykernel)",
   "language": "python",
   "name": "python3"
  },
  "language_info": {
   "codemirror_mode": {
    "name": "ipython",
    "version": 3
   },
   "file_extension": ".py",
   "mimetype": "text/x-python",
   "name": "python",
   "nbconvert_exporter": "python",
   "pygments_lexer": "ipython3",
   "version": "3.8.13"
  }
 },
 "nbformat": 4,
 "nbformat_minor": 5
}
