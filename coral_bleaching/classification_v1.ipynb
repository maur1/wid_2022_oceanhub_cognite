{
 "cells": [
  {
   "cell_type": "markdown",
   "id": "5e2994db-5af7-48c7-bc60-23a90d78d64d",
   "metadata": {
    "tags": []
   },
   "source": [
    "# Classification\n",
    "This notebook will explore the data from the dataset that was created in `CRW_bleaching.ipynb`. \n",
    "\n"
   ]
  },
  {
   "cell_type": "markdown",
   "id": "2741605e-8754-485c-a570-5e92369f1566",
   "metadata": {},
   "source": [
    "## Useful libraries\n",
    "In this notebook we use the following python libraries. If you are interested you can find more infromation about them in the links below:\n",
    "- [Pandas](https://pandas.pydata.org/docs/user_guide/index.html#user-guide): Used for data manipulation and analysis\n",
    "- [Matplotlib](https://matplotlib.org/stable/tutorials/index.html): Used to visualize data\n",
    "- [Numpy](https://numpy.org/doc/stable/user/whatisnumpy.html): Used for mathematical operations on vectors and matrices.\n",
    "- [Seaborn](https://seaborn.pydata.org/): Used to visualize statistical data\n",
    "- [Scikit learn](https://scikit-learn.org/stable/user_guide.html): Used to pre-process and classify data"
   ]
  },
  {
   "cell_type": "code",
   "execution_count": null,
   "id": "2743b429-a514-4b6a-ac42-7d9f25d6612b",
   "metadata": {},
   "outputs": [],
   "source": [
    "import sys\n",
    "!{sys.executable} -m pip install seaborn"
   ]
  },
  {
   "cell_type": "code",
   "execution_count": 5,
   "id": "21bd789a-0f61-4884-baea-fa10c2235740",
   "metadata": {},
   "outputs": [],
   "source": [
    "import pandas as pd\n",
    "import matplotlib.pyplot as plt\n",
    "import numpy as np\n",
    "import seaborn as sns\n",
    "import warnings\n",
    "from typing import List\n",
    "warnings.filterwarnings('ignore')"
   ]
  },
  {
   "cell_type": "code",
   "execution_count": 4,
   "id": "62b5533c-2f83-4391-a915-e70559d551d5",
   "metadata": {},
   "outputs": [
    {
     "name": "stdout",
     "output_type": "stream",
     "text": [
      "Collecting seaborn\n",
      "  Downloading seaborn-0.11.2-py3-none-any.whl (292 kB)\n",
      "\u001b[K     |████████████████████████████████| 292 kB 12.5 MB/s eta 0:00:01\n",
      "\u001b[?25hRequirement already satisfied: scipy>=1.0 in /srv/conda/envs/notebook/lib/python3.8/site-packages (from seaborn) (1.8.0)\n",
      "Requirement already satisfied: matplotlib>=2.2 in /srv/conda/envs/notebook/lib/python3.8/site-packages (from seaborn) (3.5.1)\n",
      "Requirement already satisfied: pandas>=0.23 in /srv/conda/envs/notebook/lib/python3.8/site-packages (from seaborn) (1.4.0)\n",
      "Requirement already satisfied: numpy>=1.15 in /srv/conda/envs/notebook/lib/python3.8/site-packages (from seaborn) (1.22.3)\n",
      "Requirement already satisfied: pyparsing>=2.2.1 in /srv/conda/envs/notebook/lib/python3.8/site-packages (from matplotlib>=2.2->seaborn) (3.0.8)\n",
      "Requirement already satisfied: fonttools>=4.22.0 in /srv/conda/envs/notebook/lib/python3.8/site-packages (from matplotlib>=2.2->seaborn) (4.33.3)\n",
      "Requirement already satisfied: pillow>=6.2.0 in /srv/conda/envs/notebook/lib/python3.8/site-packages (from matplotlib>=2.2->seaborn) (9.1.0)\n",
      "Requirement already satisfied: cycler>=0.10 in /srv/conda/envs/notebook/lib/python3.8/site-packages (from matplotlib>=2.2->seaborn) (0.11.0)\n",
      "Requirement already satisfied: packaging>=20.0 in /srv/conda/envs/notebook/lib/python3.8/site-packages (from matplotlib>=2.2->seaborn) (21.3)\n",
      "Requirement already satisfied: kiwisolver>=1.0.1 in /srv/conda/envs/notebook/lib/python3.8/site-packages (from matplotlib>=2.2->seaborn) (1.4.2)\n",
      "Requirement already satisfied: python-dateutil>=2.7 in /srv/conda/envs/notebook/lib/python3.8/site-packages (from matplotlib>=2.2->seaborn) (2.8.2)\n",
      "Requirement already satisfied: pytz>=2020.1 in /srv/conda/envs/notebook/lib/python3.8/site-packages (from pandas>=0.23->seaborn) (2022.1)\n",
      "Requirement already satisfied: six>=1.5 in /srv/conda/envs/notebook/lib/python3.8/site-packages (from python-dateutil>=2.7->matplotlib>=2.2->seaborn) (1.16.0)\n",
      "Installing collected packages: seaborn\n",
      "Successfully installed seaborn-0.11.2\n"
     ]
    }
   ],
   "source": []
  },
  {
   "cell_type": "markdown",
   "id": "c4b06633-363e-4e6c-86fc-d99559976e68",
   "metadata": {
    "tags": []
   },
   "source": [
    "## Read the table with information from the coral reefs"
   ]
  },
  {
   "cell_type": "code",
   "execution_count": 85,
   "id": "a38a39ad-f789-4031-a73f-9bf026a715e2",
   "metadata": {},
   "outputs": [],
   "source": [
    "coral_reef_data_df = pd.read_csv('/home/jovyan/Ocean Data Platform Tutorials/data/NOAA Coral Reef Watch/bleaching_data.csv')"
   ]
  },
  {
   "cell_type": "markdown",
   "id": "b8b2006d-666e-4864-b4d6-65cdea95f1db",
   "metadata": {
    "tags": []
   },
   "source": [
    "## Inspect \n",
    "To get a better overview of the data we want to use for our classification it is useful to look into the distribution of the data in question. A nice way of doing this is thorugh a histogram plot showing how the datapoints are distributed.  "
   ]
  },
  {
   "cell_type": "code",
   "execution_count": 7,
   "id": "ab7c8dd7-a6fa-4124-a294-a34982a2f5a5",
   "metadata": {},
   "outputs": [],
   "source": [
    "# create a function that visualizes the distribution of data points for a list of columns\n",
    "def plot_multiple_histograms(columns, dataframe):\n",
    "    num_cols = len(columns)\n",
    "    inspect_df = dataframe[columns]\n",
    "    fig, ax = plt.subplots(1, num_cols, sharex='col', sharey='row', figsize=(30, 3))\n",
    "    for i in range(num_cols):\n",
    "        inspect_df.hist(column = inspect_df.columns[i], bins = 20, ax=ax[i])"
   ]
  },
  {
   "cell_type": "markdown",
   "id": "d033bbed-5a84-4439-af83-f24845af28b6",
   "metadata": {
    "tags": []
   },
   "source": [
    "### Inspect data that releates to bleaching\n",
    "In our dataset we have two features that indicates the bleaching level of a reef these are\n",
    "`Bleaching_Level` and `Percent_Bleached`. Percent bleached indicates the observed bleaching level of the coral in % while Bleaching level is levels of bleaching ranging from 1-3."
   ]
  },
  {
   "cell_type": "code",
   "execution_count": 86,
   "id": "78c20291-f0a4-4ba7-ad3d-f42762fb9ce7",
   "metadata": {},
   "outputs": [
    {
     "data": {
      "image/png": "[encoded data removed]",
      "text/plain": [
       "<Figure size 2160x216 with 2 Axes>"
      ]
     },
     "metadata": {
      "needs_background": "light"
     },
     "output_type": "display_data"
    }
   ],
   "source": [
    "# Pick the columns that relate to bleaching data\n",
    "bleaching_cols = ['Bleaching_Level', 'Percent_Bleached']\n",
    "\n",
    "plot_multiple_histograms(columns=bleaching_cols, dataframe=coral_reef_data_df)"
   ]
  },
  {
   "cell_type": "code",
   "execution_count": 87,
   "id": "22dc9fef-0835-4223-9df3-b5952f6f419b",
   "metadata": {},
   "outputs": [
    {
     "data": {
      "text/html": [
       "<div>\n",
       "<style scoped>\n",
       "    .dataframe tbody tr th:only-of-type {\n",
       "        vertical-align: middle;\n",
       "    }\n",
       "\n",
       "    .dataframe tbody tr th {\n",
       "        vertical-align: top;\n",
       "    }\n",
       "\n",
       "    .dataframe thead th {\n",
       "        text-align: right;\n",
       "    }\n",
       "</style>\n",
       "<table border=\"1\" class=\"dataframe\">\n",
       "  <thead>\n",
       "    <tr style=\"text-align: right;\">\n",
       "      <th></th>\n",
       "      <th>Bleaching_Level</th>\n",
       "      <th>Percent_Bleached</th>\n",
       "    </tr>\n",
       "  </thead>\n",
       "  <tbody>\n",
       "    <tr>\n",
       "      <th>13</th>\n",
       "      <td>1.0</td>\n",
       "      <td>10.000000</td>\n",
       "    </tr>\n",
       "    <tr>\n",
       "      <th>14</th>\n",
       "      <td>1.0</td>\n",
       "      <td>8.000000</td>\n",
       "    </tr>\n",
       "    <tr>\n",
       "      <th>15</th>\n",
       "      <td>2.0</td>\n",
       "      <td>33.000000</td>\n",
       "    </tr>\n",
       "    <tr>\n",
       "      <th>16</th>\n",
       "      <td>1.0</td>\n",
       "      <td>8.000000</td>\n",
       "    </tr>\n",
       "    <tr>\n",
       "      <th>21</th>\n",
       "      <td>1.0</td>\n",
       "      <td>0.833333</td>\n",
       "    </tr>\n",
       "    <tr>\n",
       "      <th>...</th>\n",
       "      <td>...</td>\n",
       "      <td>...</td>\n",
       "    </tr>\n",
       "    <tr>\n",
       "      <th>6058</th>\n",
       "      <td>3.0</td>\n",
       "      <td>78.000000</td>\n",
       "    </tr>\n",
       "    <tr>\n",
       "      <th>6059</th>\n",
       "      <td>3.0</td>\n",
       "      <td>83.000000</td>\n",
       "    </tr>\n",
       "    <tr>\n",
       "      <th>6060</th>\n",
       "      <td>3.0</td>\n",
       "      <td>87.000000</td>\n",
       "    </tr>\n",
       "    <tr>\n",
       "      <th>6061</th>\n",
       "      <td>3.0</td>\n",
       "      <td>98.300000</td>\n",
       "    </tr>\n",
       "    <tr>\n",
       "      <th>6062</th>\n",
       "      <td>3.0</td>\n",
       "      <td>98.500000</td>\n",
       "    </tr>\n",
       "  </tbody>\n",
       "</table>\n",
       "<p>2620 rows × 2 columns</p>\n",
       "</div>"
      ],
      "text/plain": [
       "      Bleaching_Level  Percent_Bleached\n",
       "13                1.0         10.000000\n",
       "14                1.0          8.000000\n",
       "15                2.0         33.000000\n",
       "16                1.0          8.000000\n",
       "21                1.0          0.833333\n",
       "...               ...               ...\n",
       "6058              3.0         78.000000\n",
       "6059              3.0         83.000000\n",
       "6060              3.0         87.000000\n",
       "6061              3.0         98.300000\n",
       "6062              3.0         98.500000\n",
       "\n",
       "[2620 rows x 2 columns]"
      ]
     },
     "execution_count": 87,
     "metadata": {},
     "output_type": "execute_result"
    }
   ],
   "source": [
    "# Create a df that only cotains the two features\n",
    "temp_df = coral_reef_data_df[bleaching_cols]\n",
    "# Look at how the bleaching level relates to percent Bleached\n",
    "temp_df_not_na = temp_df[(temp_df['Bleaching_Level'].notna()) & (temp_df['Percent_Bleached'].notna())]\n",
    "temp_df_not_na"
   ]
  },
  {
   "cell_type": "code",
   "execution_count": 11,
   "id": "54b9a7a5",
   "metadata": {},
   "outputs": [
    {
     "data": {
      "text/html": [
       "<div>\n",
       "<style scoped>\n",
       "    .dataframe tbody tr th:only-of-type {\n",
       "        vertical-align: middle;\n",
       "    }\n",
       "\n",
       "    .dataframe tbody tr th {\n",
       "        vertical-align: top;\n",
       "    }\n",
       "\n",
       "    .dataframe thead th {\n",
       "        text-align: right;\n",
       "    }\n",
       "</style>\n",
       "<table border=\"1\" class=\"dataframe\">\n",
       "  <thead>\n",
       "    <tr style=\"text-align: right;\">\n",
       "      <th></th>\n",
       "      <th>Bleaching_Level</th>\n",
       "      <th>Percent_Bleached</th>\n",
       "    </tr>\n",
       "  </thead>\n",
       "  <tbody>\n",
       "    <tr>\n",
       "      <th>count</th>\n",
       "      <td>2620.000000</td>\n",
       "      <td>2620.000000</td>\n",
       "    </tr>\n",
       "    <tr>\n",
       "      <th>mean</th>\n",
       "      <td>2.045038</td>\n",
       "      <td>38.425779</td>\n",
       "    </tr>\n",
       "    <tr>\n",
       "      <th>std</th>\n",
       "      <td>0.759988</td>\n",
       "      <td>29.125780</td>\n",
       "    </tr>\n",
       "    <tr>\n",
       "      <th>min</th>\n",
       "      <td>1.000000</td>\n",
       "      <td>0.100000</td>\n",
       "    </tr>\n",
       "    <tr>\n",
       "      <th>25%</th>\n",
       "      <td>1.000000</td>\n",
       "      <td>9.775000</td>\n",
       "    </tr>\n",
       "    <tr>\n",
       "      <th>50%</th>\n",
       "      <td>2.000000</td>\n",
       "      <td>33.333333</td>\n",
       "    </tr>\n",
       "    <tr>\n",
       "      <th>75%</th>\n",
       "      <td>3.000000</td>\n",
       "      <td>60.000000</td>\n",
       "    </tr>\n",
       "    <tr>\n",
       "      <th>max</th>\n",
       "      <td>3.000000</td>\n",
       "      <td>100.000000</td>\n",
       "    </tr>\n",
       "  </tbody>\n",
       "</table>\n",
       "</div>"
      ],
      "text/plain": [
       "       Bleaching_Level  Percent_Bleached\n",
       "count      2620.000000       2620.000000\n",
       "mean          2.045038         38.425779\n",
       "std           0.759988         29.125780\n",
       "min           1.000000          0.100000\n",
       "25%           1.000000          9.775000\n",
       "50%           2.000000         33.333333\n",
       "75%           3.000000         60.000000\n",
       "max           3.000000        100.000000"
      ]
     },
     "execution_count": 11,
     "metadata": {},
     "output_type": "execute_result"
    }
   ],
   "source": [
    "# Take a look at the distribution of the data in the frame\n",
    "temp_df_not_na.describe()"
   ]
  },
  {
   "cell_type": "code",
   "execution_count": 27,
   "id": "e6f54b73-325f-441a-86d4-a1ba76d4ff43",
   "metadata": {},
   "outputs": [
    {
     "name": "stdout",
     "output_type": "stream",
     "text": [
      "<class 'pandas.core.frame.DataFrame'>\n",
      "RangeIndex: 10594 entries, 0 to 10593\n",
      "Data columns (total 2 columns):\n",
      " #   Column            Non-Null Count  Dtype  \n",
      "---  ------            --------------  -----  \n",
      " 0   Bleaching_Level   6345 non-null   float64\n",
      " 1   Percent_Bleached  6861 non-null   float64\n",
      "dtypes: float64(2)\n",
      "memory usage: 165.7 KB\n"
     ]
    }
   ],
   "source": [
    "# data in each column\n",
    "temp_df.info()"
   ]
  },
  {
   "cell_type": "code",
   "execution_count": 28,
   "id": "0657cf8f-a59b-4470-87fd-a35a2257e2d1",
   "metadata": {},
   "outputs": [
    {
     "data": {
      "text/plain": [
       "Bleaching_Level     4249\n",
       "Percent_Bleached    3733\n",
       "dtype: int64"
      ]
     },
     "execution_count": 28,
     "metadata": {},
     "output_type": "execute_result"
    }
   ],
   "source": [
    "# How many null values do we have for each column?\n",
    "temp_df.isnull().sum()"
   ]
  },
  {
   "cell_type": "code",
   "execution_count": 36,
   "id": "49fd330b-f99c-4b13-bb81-707250fb3c4d",
   "metadata": {},
   "outputs": [
    {
     "data": {
      "text/html": [
       "<div>\n",
       "<style scoped>\n",
       "    .dataframe tbody tr th:only-of-type {\n",
       "        vertical-align: middle;\n",
       "    }\n",
       "\n",
       "    .dataframe tbody tr th {\n",
       "        vertical-align: top;\n",
       "    }\n",
       "\n",
       "    .dataframe thead th {\n",
       "        text-align: right;\n",
       "    }\n",
       "</style>\n",
       "<table border=\"1\" class=\"dataframe\">\n",
       "  <thead>\n",
       "    <tr style=\"text-align: right;\">\n",
       "      <th></th>\n",
       "      <th>Bleaching_Level</th>\n",
       "      <th>Percent_Bleached</th>\n",
       "    </tr>\n",
       "  </thead>\n",
       "  <tbody>\n",
       "    <tr>\n",
       "      <th>17</th>\n",
       "      <td>-1.0</td>\n",
       "      <td>NaN</td>\n",
       "    </tr>\n",
       "    <tr>\n",
       "      <th>18</th>\n",
       "      <td>-1.0</td>\n",
       "      <td>NaN</td>\n",
       "    </tr>\n",
       "    <tr>\n",
       "      <th>31</th>\n",
       "      <td>-1.0</td>\n",
       "      <td>NaN</td>\n",
       "    </tr>\n",
       "    <tr>\n",
       "      <th>43</th>\n",
       "      <td>-1.0</td>\n",
       "      <td>NaN</td>\n",
       "    </tr>\n",
       "    <tr>\n",
       "      <th>44</th>\n",
       "      <td>-1.0</td>\n",
       "      <td>NaN</td>\n",
       "    </tr>\n",
       "    <tr>\n",
       "      <th>...</th>\n",
       "      <td>...</td>\n",
       "      <td>...</td>\n",
       "    </tr>\n",
       "    <tr>\n",
       "      <th>5978</th>\n",
       "      <td>-1.0</td>\n",
       "      <td>NaN</td>\n",
       "    </tr>\n",
       "    <tr>\n",
       "      <th>5979</th>\n",
       "      <td>-1.0</td>\n",
       "      <td>NaN</td>\n",
       "    </tr>\n",
       "    <tr>\n",
       "      <th>5980</th>\n",
       "      <td>-1.0</td>\n",
       "      <td>NaN</td>\n",
       "    </tr>\n",
       "    <tr>\n",
       "      <th>5981</th>\n",
       "      <td>-1.0</td>\n",
       "      <td>NaN</td>\n",
       "    </tr>\n",
       "    <tr>\n",
       "      <th>5982</th>\n",
       "      <td>-1.0</td>\n",
       "      <td>NaN</td>\n",
       "    </tr>\n",
       "  </tbody>\n",
       "</table>\n",
       "<p>197 rows × 2 columns</p>\n",
       "</div>"
      ],
      "text/plain": [
       "      Bleaching_Level  Percent_Bleached\n",
       "17               -1.0               NaN\n",
       "18               -1.0               NaN\n",
       "31               -1.0               NaN\n",
       "43               -1.0               NaN\n",
       "44               -1.0               NaN\n",
       "...               ...               ...\n",
       "5978             -1.0               NaN\n",
       "5979             -1.0               NaN\n",
       "5980             -1.0               NaN\n",
       "5981             -1.0               NaN\n",
       "5982             -1.0               NaN\n",
       "\n",
       "[197 rows x 2 columns]"
      ]
     },
     "execution_count": 36,
     "metadata": {},
     "output_type": "execute_result"
    }
   ],
   "source": [
    "temp_df[temp_df.Bleaching_Level== -1]"
   ]
  },
  {
   "cell_type": "code",
   "execution_count": 12,
   "id": "a784d1ca-943d-4729-886d-7ebf789aa123",
   "metadata": {},
   "outputs": [
    {
     "name": "stdout",
     "output_type": "stream",
     "text": [
      "Bleaching level \t Number of entries \t Min \t Max\n",
      "1 \t\t\t 700 \t\t\t 0.1 \t 10.0\n",
      "2 \t\t\t 1102 \t\t\t 12.0 \t 50.0\n",
      "3 \t\t\t 818 \t\t\t 50.9 \t 100.0\n",
      "total \t\t\t 2620\n"
     ]
    }
   ],
   "source": [
    "c1 = []\n",
    "c2 = []\n",
    "c3 = []\n",
    "for row in temp_df_not_na.iterrows():\n",
    "    if row[1].Bleaching_Level == 1:\n",
    "        c1.append(row[1].Percent_Bleached)\n",
    "    elif row[1].Bleaching_Level == 2:\n",
    "        c2.append(row[1].Percent_Bleached)\n",
    "    elif row[1].Bleaching_Level == 3:\n",
    "        c3.append(row[1].Percent_Bleached)\n",
    "\n",
    "print(f\"Bleaching level \\t Number of entries \\t Min \\t Max\")\n",
    "print(f\"1 \\t\\t\\t {len(c1)} \\t\\t\\t {np.min(c1)} \\t {np.max(c1)}\")\n",
    "print(f\"2 \\t\\t\\t {len(c2)} \\t\\t\\t {np.min(c2)} \\t {np.max(c2)}\")\n",
    "print(f\"3 \\t\\t\\t {len(c3)} \\t\\t\\t {np.min(c3)} \\t {np.max(c3)}\")\n",
    "print(f\"total \\t\\t\\t {len(c1)+len(c2)+len(c3)}\")"
   ]
  },
  {
   "cell_type": "markdown",
   "id": "1b2d9e1a-7093-449c-99f0-b8a663e17004",
   "metadata": {},
   "source": [
    "We can observe that there are different measures of bleaching. Some rows only have entries for `Bleaching_Level`, while other rows only have entries for `Percent_Bleached`. Let us create a new column where we try to join the information from these two categories. \n",
    "\n",
    "Another observation is that we have a -1 value for the bleaching level, this is considered an outlier (TODO - CHECK THIS, what does -1 means. Where should 0 be?) and can thus be removed"
   ]
  },
  {
   "cell_type": "markdown",
   "id": "8c39d53a-787e-454e-8a59-eeecb9e2dabd",
   "metadata": {
    "tags": []
   },
   "source": [
    "#### Create a column in the table with categorical bleaching data based on information in `Bleaching_Level` and `Percent_Bleached`\n",
    "\n",
    "##### TODO - could this section be presented as a challege, e.g Combine the two columns into one\n",
    "\n"
   ]
  },
  {
   "cell_type": "code",
   "execution_count": 88,
   "id": "db1bf1c3-44d7-4d6d-a25b-aa27e407a987",
   "metadata": {},
   "outputs": [],
   "source": [
    "# Remove rows where the `Bleaching_Level` is -1\n",
    "coral_reef_data_df = coral_reef_data_df.where(coral_reef_data_df['Bleaching_Level'] != -1)\n",
    "\n",
    "# Create a copy of the column `Bleaching_Level` and call it `Categorical_Percent_Bleached`\n",
    "coral_reef_data_df['Categorical_Percent_Bleached'] = coral_reef_data_df['Bleaching_Level']\n",
    "\n"
   ]
  },
  {
   "cell_type": "code",
   "execution_count": 89,
   "id": "f301b401-4a5e-4171-90bf-4605e700e7a3",
   "metadata": {},
   "outputs": [],
   "source": [
    "# Find rows where `Categorical_Percent_Bleached` is not set, and ´Percent_Bleached´ is between 0 and 15 and set the `Categorical_Percent_Bleached` to 1\n",
    "coral_reef_data_df.loc[\n",
    "    (\n",
    "        (coral_reef_data_df['Categorical_Percent_Bleached'].isna()) & \n",
    "        (coral_reef_data_df['Percent_Bleached'] >= 0) & \n",
    "        (coral_reef_data_df['Percent_Bleached'] < 15)\n",
    "    ), \n",
    "    'Categorical_Percent_Bleached'\n",
    "] = 1\n",
    "\n",
    "# Find rows where `Categorical_Percent_Bleached` is not set, and ´Percent_Bleached´ is between 15 and 50 and set the `Categorical_Percent_Bleached` to 2\n",
    "coral_reef_data_df.loc[\n",
    "    (\n",
    "        (coral_reef_data_df['Categorical_Percent_Bleached'].isna()) & \n",
    "        (coral_reef_data_df['Percent_Bleached'] >= 15) & \n",
    "        (coral_reef_data_df['Percent_Bleached'] < 50)\n",
    "    ), \n",
    "    'Categorical_Percent_Bleached'\n",
    "] = 2\n",
    "\n",
    "# Find rows where `Categorical_Percent_Bleached` is not set, and ´Percent_Bleached´ is above 50 and set the `Categorical_Percent_Bleached` to 3\n",
    "coral_reef_data_df.loc[\n",
    "    (\n",
    "        (coral_reef_data_df['Categorical_Percent_Bleached'].isna()) & \n",
    "        (coral_reef_data_df['Percent_Bleached'] >= 50)\n",
    "    ), \n",
    "    'Categorical_Percent_Bleached'\n",
    "] = 3\n",
    "\n",
    "# Drop rows where `Categorical_Percent_Bleached` is not set\n",
    "coral_reef_data_df = coral_reef_data_df.dropna(subset=['Categorical_Percent_Bleached'])\n"
   ]
  },
  {
   "cell_type": "code",
   "execution_count": 40,
   "id": "07fabffd-51d4-4eca-9be7-b1ecbfe407ea",
   "metadata": {},
   "outputs": [
    {
     "data": {
      "text/plain": [
       "array([[<AxesSubplot:title={'center':'Categorical_Percent_Bleached'}>]],\n",
       "      dtype=object)"
      ]
     },
     "execution_count": 40,
     "metadata": {},
     "output_type": "execute_result"
    },
    {
     "data": {
      "image/png": "[encoded data removed]",
      "text/plain": [
       "<Figure size 432x288 with 1 Axes>"
      ]
     },
     "metadata": {
      "needs_background": "light"
     },
     "output_type": "display_data"
    }
   ],
   "source": [
    "inspect_df = coral_reef_data_df[['Categorical_Percent_Bleached']]\n",
    "\n",
    "inspect_df.hist()"
   ]
  },
  {
   "cell_type": "markdown",
   "id": "036279ee-cdb7-4aa9-88c3-9d90b88e63f6",
   "metadata": {},
   "source": [
    "We now have a column with one consistent measurement for coral bleaching. Lets move on to our feature evaluation to see what parameters affect coral bleaching.\n",
    "\n",
    "In the next section we will look into our temperature and thermal stress data and see what effects these features have on coral bleaching.\n"
   ]
  },
  {
   "cell_type": "markdown",
   "id": "22c4013d-1d4c-4d77-8712-3e83f630cfb6",
   "metadata": {
    "tags": []
   },
   "source": [
    "### Inspect Temperature and Wind data"
   ]
  },
  {
   "cell_type": "markdown",
   "id": "0ba93124-9346-4890-a5f8-d96baa8c5394",
   "metadata": {},
   "source": [
    "The temperature data is based on weekly Sea Surface Temperatures ([SSTs](https://climatedataguide.ucar.edu/climate-data/sst-data-sets-overview-comparison-table)) for the study time frame, [created using a harmonics approach](https://journals.ametsoc.org/view/journals/atot/30/7/jtech-d-12-00195_1.xml). Windspeed is also included in this data.\n",
    "\n",
    "\n",
    "##### TODO - should we only look at the temp and not the statistical computated columns (mean, std)\n",
    "<details><summary>Open to view information about each Temperature and wind parameter</summary>\n",
    "\n",
    "|Parameter|Description|\n",
    "|---|---|\n",
    "|**Temperature_Kelvin**|SST in Kelvin.|\n",
    "|**Temperature_Mean**|Mean SST in degrees Celsius.|\n",
    "|**Temperature_Minimum**|Minimum SST in degrees Celsius.|\n",
    "|**Temperature_Maximum**|Maximum SST in degrees Celsius.|\n",
    "|**Temperature_Kelvin_Standard_Deviation**|Standard deviation of SST in Kelvin.|\n",
    "|**Windspeed**|Meters per hour.|\n",
    "</details>"
   ]
  },
  {
   "cell_type": "code",
   "execution_count": 62,
   "id": "5808c4f3-e7f6-43f5-9453-38a4716e4b16",
   "metadata": {},
   "outputs": [
    {
     "data": {
      "image/png": "[encoded data removed]",
      "text/plain": [
       "<Figure size 2160x216 with 3 Axes>"
      ]
     },
     "metadata": {
      "needs_background": "light"
     },
     "output_type": "display_data"
    }
   ],
   "source": [
    "# Inspect Temperature data\n",
    "temp_cols = ['Temperature_Kelvin']\n",
    "all_temp_cols = ['Temperature_Kelvin', 'Temperature_Mean', 'Temperature_Minimum','Temperature_Maximum'] \n",
    "std_cols = ['Temperature_Kelvin_Standard_Deviation']\n",
    "wind_cols = ['Windspeed']\n",
    "all_cols =  temp_cols + std_cols + wind_cols\n",
    "plot_multiple_histograms(columns=all_cols, dataframe=coral_reef_data_df)"
   ]
  },
  {
   "cell_type": "markdown",
   "id": "9a108f60-a074-4545-b9e9-7b0d20bb1312",
   "metadata": {},
   "source": [
    "### Challenge \n",
    " convert all temprature related columns presented in Kelvin to Celsius [formula](https://climatedataguide.ucar.edu/climate-data/sst-data-sets-overview-comparison-table)\n",
    " TODO - come up with a better challenge"
   ]
  },
  {
   "cell_type": "markdown",
   "id": "da42803d-80a3-4aff-9db7-347872f0065d",
   "metadata": {},
   "source": [
    "#### Data distribution box plot\n",
    "A boxplot is a standardized way of displaying the distribution of data based on a five number summary (“minimum”, first quartile (Q1), median, third quartile (Q3), and “maximum”). It can tell you about your outliers and what their values are. Read more about the method [here](https://towardsdatascience.com/understanding-boxplots-5e2df7bcbd51)"
   ]
  },
  {
   "cell_type": "code",
   "execution_count": 43,
   "id": "256387f2-7e93-4d65-9e1d-190012ac6836",
   "metadata": {},
   "outputs": [
    {
     "data": {
      "image/png": "[encoded data removed]",
      "text/plain": [
       "<Figure size 1440x360 with 1 Axes>"
      ]
     },
     "metadata": {
      "needs_background": "light"
     },
     "output_type": "display_data"
    }
   ],
   "source": [
    "plt.figure(figsize=(20,5))\n",
    "ax = sns.boxplot(data=coral_reef_data_df[temp_cols])\n",
    "ax.set_xticklabels(ax.get_xticklabels(),rotation=30)\n",
    "plt.show()"
   ]
  },
  {
   "cell_type": "code",
   "execution_count": 44,
   "id": "8fc57107-dbcc-4306-a94f-a78a44ef98f5",
   "metadata": {},
   "outputs": [
    {
     "data": {
      "image/png": "[encoded data removed]",
      "text/plain": [
       "<Figure size 1440x360 with 1 Axes>"
      ]
     },
     "metadata": {
      "needs_background": "light"
     },
     "output_type": "display_data"
    }
   ],
   "source": [
    "plt.figure(figsize=(20,5))\n",
    "ax = sns.boxplot(data=coral_reef_data_df[wind_cols])\n",
    "ax.set_xticklabels(ax.get_xticklabels(),rotation=30)\n",
    "plt.show()"
   ]
  },
  {
   "cell_type": "markdown",
   "id": "fcbec903-50e8-4e20-ab0c-0332bedf3f23",
   "metadata": {},
   "source": [
    "##### Challenge\n",
    "Should we remove some of our outliers from the table? if so remove them, if not keep them and continue."
   ]
  },
  {
   "cell_type": "markdown",
   "id": "c9299c22-61bc-4e92-829d-f1b2ef5060c6",
   "metadata": {
    "tags": []
   },
   "source": [
    "### Inspect Sea-Surface Temperature Anomaly (SSTA) data\n",
    "Some sea surface temperature anomalies are simply transient events, not part of a specific pattern or trend. Other anomalies are more meaningful. At irregular intervals (roughly every 3-6 years), the sea surface temperatures in the Pacific Ocean along the equator become warmer or cooler than normal. These anomalies are the hallmark of El Niño and La Niña climate cycles, which can influence weather patterns across the globe.\n",
    "\n",
    "Strong, localized sea surface temperature anomalies may reveal that an ocean current, such as the Gulf Stream Current off the east coast of the United States, has veered off its usual path for a time or is stronger or weaker than usual. Sea surface temperature anomalies that persist over many years can be signals of regional or global climate change, such as global warming. The warm anomaly appears to intensify in the Northern Hemisphere summer. This pattern results from the fact that sea ice is retreating to a smaller area in the summer now than in the past; areas that used to be covered with ice all summer are now open water.\n",
    "\n",
    "Sea surface temperature anomalies have practical as well as scientific applications. For example, in coastal areas, anomalous temperatures (either warm or cool) can favor one organism in an ecosystem over another, causing populations of one kind of bacteria, algae, or fish to thrive or decline. Warm sea surface temperature anomalies can also warn natural resource managers where coral reefs may be in danger of bleaching. \n",
    "[Source](https://earthobservatory.nasa.gov/global-maps/AMSRE_SSTAn_M)"
   ]
  },
  {
   "cell_type": "markdown",
   "id": "39bc009f-e108-4793-854e-716fc26f9d90",
   "metadata": {},
   "source": [
    "The Sea-Surface Temperature Anomaly (SSTA) is the weekly SST minus weekly climatological SST in degrees Celsius.\n",
    "\n",
    "SSTA_DHW (Sea-Surface Temperature Degree Heating Weeks) is the sum of the previous 12 weeks when SSTA >  = 1 degree Celsius.\n",
    "\n",
    "<details><summary>Open to view information about each SSTA parameter</summary>\n",
    "\n",
    "|Parameter|Description|\n",
    "|---|---|\n",
    "|**SSTA**|(Sea-Surface Temperature Anomaly) weekly SST minus weekly climatological SST.|\n",
    "|**SSTA_Standard_Deviation**|The Standard Deviation of weekly SSTA in degrees Celsius over the entire period.|\n",
    "|**SSTA_Mean**|The mean SSTA in degrees Celsius over the entire period.|\n",
    "|**SSTA_Minimum**|The minimum SSTA in degrees Celsius over the entire period.|\n",
    "|**SSTA_Maximum**|The maximum SSTA in degrees Celsius over the entire period.|\n",
    "|**SSTA_Frequency**|(Sea Surface Temperature Anomaly Frequency) number of times over the previous 52 weeks that SSTA >  = 1 degree Celsius.|\n",
    "|**SSTA_Frequency_Standard_Deviation**|The standard deviation of SSTA Frequency in degrees Celsius over the entire time period of 40 years.|\n",
    "|**SSTA_FrequencyMax**|The maximum SSTA Frequency in degrees Celsius over the entire time period.|\n",
    "|**SSTA_FrequencyMean**|The mean SSTA Frequency in degrees Celsius over the entire time period of 40 years.|\n",
    "|-|-|\n",
    "|**SSTA_DHW**|(Sea Surface Temperature Degree Heating Weeks) sum of previous 12 weeks when SSTA > = 1 degree.|\n",
    "|**SSTA_DHW_Standard_Deviation**|The standard deviation SSTA DHW in degrees Celsius over the entire period.|\n",
    "|**SSTA_DHWMax**|The maximum SSTA DHW in degrees Celsius over the entire time period of 40 years.|\n",
    "|**SSTA_DHWMean**|The mean SSTA DHW in degrees Celsius over the entire time period of 40 years.|\n",
    "    \n",
    "</details>"
   ]
  },
  {
   "cell_type": "code",
   "execution_count": 52,
   "id": "b2e64292-87db-4d5c-93d4-a7de56bd673d",
   "metadata": {},
   "outputs": [
    {
     "data": {
      "image/png": "[encoded data removed]",
      "text/plain": [
       "<Figure size 2160x216 with 3 Axes>"
      ]
     },
     "metadata": {
      "needs_background": "light"
     },
     "output_type": "display_data"
    }
   ],
   "source": [
    "# Inspect SSTA data\n",
    "ssta_cols = ['SSTA', 'SSTA_Standard_Deviation', 'SSTA_Mean', 'SSTA_Minimum', 'SSTA_Maximum', 'SSTA_Frequency', 'SSTA_Frequency_Standard_Deviation', 'SSTA_FrequencyMax', 'SSTA_FrequencyMean', 'SSTA_DHW', 'SSTA_DHW_Standard_Deviation','SSTA_DHWMax', 'SSTA_DHWMean',]\n",
    "ssta_measurment_cols =  ['SSTA', 'SSTA_Frequency', 'SSTA_DHW']\n",
    "plot_multiple_histograms(columns=ssta_measurment_cols, dataframe=coral_reef_data_df)"
   ]
  },
  {
   "cell_type": "code",
   "execution_count": 51,
   "id": "03efcfaf-6f5e-4ae7-aafe-b5a550916099",
   "metadata": {},
   "outputs": [
    {
     "data": {
      "image/png": "[encoded data removed]",
      "text/plain": [
       "<Figure size 1440x360 with 1 Axes>"
      ]
     },
     "metadata": {
      "needs_background": "light"
     },
     "output_type": "display_data"
    }
   ],
   "source": [
    "plt.figure(figsize=(20,5))\n",
    "ax = sns.boxplot(data=coral_reef_data_df[ssta_measurment_cols])\n",
    "ax.set_xticklabels(ax.get_xticklabels(),rotation=30)\n",
    "plt.show()"
   ]
  },
  {
   "cell_type": "markdown",
   "id": "9a837737-66d4-4085-a1ea-2a8bd766104b",
   "metadata": {},
   "source": [
    "Should we remove some of our outliers from the table? if so remove them, if not keep them and continue."
   ]
  },
  {
   "cell_type": "markdown",
   "id": "60bff694-8838-42a0-9605-cb9a12ba756e",
   "metadata": {
    "tags": []
   },
   "source": [
    "### Inspect Thermal Stress Anomaly (TSA) data"
   ]
  },
  {
   "cell_type": "markdown",
   "id": "f1731576-3e4d-48cb-8cb0-74782d8c1f8b",
   "metadata": {
    "tags": []
   },
   "source": [
    "Thermal stress disrupts the symbiotic relationship between the corals and the algae living in their tissues, which causes coral bleaching. [Read more here](https://oceanservice.noaa.gov/facts/coral_bleach.html#:~:text=When%20corals%20are%20stressed%20by,them%20to%20turn%20completely%20white.&text=Warmer%20water%20temperatures%20can%20result%20in%20coral%20bleaching.)\n",
    "\n",
    "Thermal Stress Anomalies are defined as deviations of 1 week where the temperature was 1 degree Celsius or greater than the mean maximum climatological week(= the long term average warmest week from 1985 to 2005).  \n",
    "#### TODO - are TSA AND SSTA related? \n",
    "\n",
    "`TSA_DHW` (Thermal Stress Anomaly - Degree Heating Week) is the sum of the previous 12 weeks when TSA >= 1 degree Celsius. \n",
    "\n",
    "<details><summary>Open to view information about each TSA parameter</summary>\n",
    "\n",
    "|Parameter|Description|\n",
    "|---|---|\n",
    "|**TSA_Standard_Deviation**|The standard deviation of TSA in degrees Celsius over the entire time period of 40 years.|\n",
    "|**TSA_Minimum**|The minimum TSA in degrees Celsius over the entire time period of 40 years.|  \n",
    "|**TSA_Maximum**|The maximum TSA in degrees Celsius over the entire time period of 40 years.|\n",
    "|**TSA_Mean**|The mean TSA in degrees Celsius over the entire time period of 40 years.|\n",
    "|**TSA_Frequency**|The number of times over previous 52 weeks that TSA >= 1 degree Celsius.|  \n",
    "|**TSA_Frequency_Standard_Deviation**|The standard deviation of frequency of TSA in degrees Celsius over the entire time period of 40 years.|  \n",
    "|**TSA_FrequencyMax**|The maximum TSA frequency in degrees Celsius over the entire time period of 40 years.|  \n",
    "|**TSA_FrequencyMean**|The mean TSA frequency in degrees Celsius over the entire time period of 40 years.|  \n",
    "|-|-|\n",
    "|**TSA_DHW**|Sum of previous 12 weeks when TSA >= 1 degree Celsius. |\n",
    "|**TSA_DHW_Standard_Deviation**|The standard deviation of TSA DHW in degrees Celsius over the entire time period of 40 years.|\n",
    "|**TSA_DHWMax**|The maximum TSA DHW in degrees Celsius over the entire time period of 40 years.|\n",
    "|**TSA_DHWMean**|The mean TSA DHW in degrees Celsius over the entire time period of 40 years|\n",
    "</details>"
   ]
  },
  {
   "cell_type": "code",
   "execution_count": 60,
   "id": "f62c7b9d-7aae-4a19-8ed2-5557f001f5a9",
   "metadata": {},
   "outputs": [
    {
     "data": {
      "image/png": "[encoded data removed]",
      "text/plain": [
       "<Figure size 2160x216 with 9 Axes>"
      ]
     },
     "metadata": {
      "needs_background": "light"
     },
     "output_type": "display_data"
    }
   ],
   "source": [
    "tsa_cols = ['TSA_Mean', 'TSA_Frequency', 'TSA_Frequency_Standard_Deviation', 'TSA_FrequencyMax', 'TSA_FrequencyMean', 'TSA_DHW', 'TSA_DHW_Standard_Deviation', 'TSA_DHWMax', 'TSA_DHWMean']\n",
    "tsa_measurment_cols = ['TSA_Mean','TSA_DHW']\n",
    "plot_multiple_histograms(columns=tsa_cols, dataframe=coral_reef_data_df)\n",
    "# choose columns based on available data\n",
    "tsa_cols = ['TSA_Mean', 'TSA_Frequency', 'TSA_Frequency_Standard_Deviation', 'TSA_FrequencyMax', 'TSA_FrequencyMean', 'TSA_DHW', 'TSA_DHW_Standard_Deviation', 'TSA_DHWMax', 'TSA_DHWMean']"
   ]
  },
  {
   "cell_type": "code",
   "execution_count": 16,
   "id": "a37cfa90-8ee8-4566-b627-541a60026615",
   "metadata": {},
   "outputs": [
    {
     "data": {
      "image/png": "[encoded data removed]",
      "text/plain": [
       "<Figure size 1440x360 with 1 Axes>"
      ]
     },
     "metadata": {
      "needs_background": "light"
     },
     "output_type": "display_data"
    }
   ],
   "source": [
    "plt.figure(figsize=(20,5))\n",
    "ax = sns.boxplot(data=coral_reef_data_df[tsa_cols])\n",
    "ax.set_xticklabels(ax.get_xticklabels(),rotation=30)\n",
    "plt.show()"
   ]
  },
  {
   "cell_type": "markdown",
   "id": "67810139-55e4-4fd0-bc48-004a1c94a87f",
   "metadata": {
    "tags": []
   },
   "source": [
    "### Plot correlation\n",
    "Correlation is used to find the relationship between two variables, this is often used to predict the value of one variable with the help of other variables, who is being correlated with it.\n",
    "A good way to quickly check correlations among our selected columns is by visualizing the correlation matrix as a heatmap. The stronger the color, the larger the correlation magnitude. "
   ]
  },
  {
   "cell_type": "code",
   "execution_count": 63,
   "id": "9af6fb74-1e5b-4018-a0e9-7a3a0a1607b5",
   "metadata": {},
   "outputs": [
    {
     "data": {
      "image/png": "[encoded data removed]",
      "text/plain": [
       "<Figure size 1440x720 with 2 Axes>"
      ]
     },
     "metadata": {
      "needs_background": "light"
     },
     "output_type": "display_data"
    }
   ],
   "source": [
    "coral_reef_correlation = coral_reef_data_df[['Categorical_Percent_Bleached']+temp_cols+wind_cols+tsa_measurment_cols+ssta_measurment_cols].corr()\n",
    "plt.figure(figsize=(20,10))\n",
    "sns.heatmap(coral_reef_correlation, annot=True, cmap=\"coolwarm\")\n",
    "plt.title(\"Correlation between variables variables and bleaching\")\n",
    "plt.show()"
   ]
  },
  {
   "cell_type": "code",
   "execution_count": 64,
   "id": "02b77754-af38-4904-b740-020406873752",
   "metadata": {},
   "outputs": [],
   "source": [
    "# TODO - in the correlation marix we see that there are dependencies between data points, \n",
    "# should remove these ot only get the raw vlaues so that correlation w bleaching percentage is more visible ?"
   ]
  },
  {
   "cell_type": "markdown",
   "id": "c4fdeae3-485a-4aec-9644-c0a8ee73e1ab",
   "metadata": {},
   "source": [
    "### Relationship between two categorical values"
   ]
  },
  {
   "cell_type": "code",
   "execution_count": 65,
   "id": "92d57c7d-1c36-47c3-972f-5e8293173548",
   "metadata": {},
   "outputs": [
    {
     "data": {
      "text/plain": [
       "<AxesSubplot:xlabel='SSTA_Frequency', ylabel='Categorical_Percent_Bleached'>"
      ]
     },
     "execution_count": 65,
     "metadata": {},
     "output_type": "execute_result"
    },
    {
     "data": {
      "image/png": "[encoded data removed]",
      "text/plain": [
       "<Figure size 1440x720 with 1 Axes>"
      ]
     },
     "metadata": {
      "needs_background": "light"
     },
     "output_type": "display_data"
    }
   ],
   "source": [
    "# TODO - Should we remove this plot, we have alrady done a lot of Data exploration above\n",
    "y_axis = coral_reef_data_df[\"Categorical_Percent_Bleached\"]\n",
    "x_axis = coral_reef_data_df[\"SSTA_Frequency\"].round(0)\n",
    "\n",
    "plt.figure(figsize=(20,10))\n",
    "sns.barplot(x=x_axis, y=y_axis)"
   ]
  },
  {
   "cell_type": "markdown",
   "id": "e6b9980e-9b29-4ef3-bed8-4c6cc9f25754",
   "metadata": {
    "tags": []
   },
   "source": [
    "## Select features\n",
    "Based on the matrix above, which features would you like to select for our classification model? \n",
    "Create a dataset based on the selected columns that has values for categorical percent bleached\n",
    "\n",
    "Feel fre to try out other feature selections methods, a [comprehensive guide can be found here](kaggle.com/code/prashant111/comprehensive-guide-on-feature-selection/notebook) "
   ]
  },
  {
   "cell_type": "code",
   "execution_count": 71,
   "id": "793126bf-9a54-4abc-8d46-5009b6af8535",
   "metadata": {},
   "outputs": [
    {
     "name": "stdout",
     "output_type": "stream",
     "text": [
      "['TSA_Mean', 'TSA_Frequency', 'TSA_Frequency_Standard_Deviation', 'TSA_FrequencyMax', 'TSA_FrequencyMean', 'TSA_DHW', 'TSA_DHW_Standard_Deviation', 'TSA_DHWMax', 'TSA_DHWMean', 'Temperature_Kelvin', 'Temperature_Mean', 'Temperature_Minimum', 'Temperature_Maximum', 'Temperature_Kelvin_Standard_Deviation', 'Windspeed', 'SSTA', 'SSTA_Standard_Deviation', 'SSTA_Mean', 'SSTA_Minimum', 'SSTA_Maximum', 'SSTA_Frequency', 'SSTA_Frequency_Standard_Deviation', 'SSTA_FrequencyMax', 'SSTA_FrequencyMean', 'SSTA_DHW', 'SSTA_DHW_Standard_Deviation', 'SSTA_DHWMax', 'SSTA_DHWMean']\n"
     ]
    },
    {
     "data": {
      "text/html": [
       "<div>\n",
       "<style scoped>\n",
       "    .dataframe tbody tr th:only-of-type {\n",
       "        vertical-align: middle;\n",
       "    }\n",
       "\n",
       "    .dataframe tbody tr th {\n",
       "        vertical-align: top;\n",
       "    }\n",
       "\n",
       "    .dataframe thead th {\n",
       "        text-align: right;\n",
       "    }\n",
       "</style>\n",
       "<table border=\"1\" class=\"dataframe\">\n",
       "  <thead>\n",
       "    <tr style=\"text-align: right;\">\n",
       "      <th></th>\n",
       "      <th>Temperature_Kelvin</th>\n",
       "      <th>Windspeed</th>\n",
       "      <th>TSA_Mean</th>\n",
       "      <th>TSA_DHW</th>\n",
       "    </tr>\n",
       "  </thead>\n",
       "  <tbody>\n",
       "    <tr>\n",
       "      <th>0</th>\n",
       "      <td>302.48</td>\n",
       "      <td>2.0</td>\n",
       "      <td>-1.53</td>\n",
       "      <td>0.0</td>\n",
       "    </tr>\n",
       "    <tr>\n",
       "      <th>1</th>\n",
       "      <td>302.48</td>\n",
       "      <td>2.0</td>\n",
       "      <td>-1.53</td>\n",
       "      <td>0.0</td>\n",
       "    </tr>\n",
       "    <tr>\n",
       "      <th>2</th>\n",
       "      <td>300.79</td>\n",
       "      <td>5.0</td>\n",
       "      <td>-1.48</td>\n",
       "      <td>0.0</td>\n",
       "    </tr>\n",
       "    <tr>\n",
       "      <th>3</th>\n",
       "      <td>300.79</td>\n",
       "      <td>5.0</td>\n",
       "      <td>-1.48</td>\n",
       "      <td>0.0</td>\n",
       "    </tr>\n",
       "    <tr>\n",
       "      <th>4</th>\n",
       "      <td>298.16</td>\n",
       "      <td>4.0</td>\n",
       "      <td>-2.80</td>\n",
       "      <td>0.0</td>\n",
       "    </tr>\n",
       "    <tr>\n",
       "      <th>...</th>\n",
       "      <td>...</td>\n",
       "      <td>...</td>\n",
       "      <td>...</td>\n",
       "      <td>...</td>\n",
       "    </tr>\n",
       "    <tr>\n",
       "      <th>10589</th>\n",
       "      <td>300.58</td>\n",
       "      <td>1.0</td>\n",
       "      <td>-0.59</td>\n",
       "      <td>0.0</td>\n",
       "    </tr>\n",
       "    <tr>\n",
       "      <th>10590</th>\n",
       "      <td>300.41</td>\n",
       "      <td>1.0</td>\n",
       "      <td>-0.67</td>\n",
       "      <td>0.0</td>\n",
       "    </tr>\n",
       "    <tr>\n",
       "      <th>10591</th>\n",
       "      <td>300.41</td>\n",
       "      <td>1.0</td>\n",
       "      <td>-0.67</td>\n",
       "      <td>0.0</td>\n",
       "    </tr>\n",
       "    <tr>\n",
       "      <th>10592</th>\n",
       "      <td>300.41</td>\n",
       "      <td>1.0</td>\n",
       "      <td>-0.67</td>\n",
       "      <td>0.0</td>\n",
       "    </tr>\n",
       "    <tr>\n",
       "      <th>10593</th>\n",
       "      <td>300.41</td>\n",
       "      <td>1.0</td>\n",
       "      <td>-0.67</td>\n",
       "      <td>0.0</td>\n",
       "    </tr>\n",
       "  </tbody>\n",
       "</table>\n",
       "<p>10389 rows × 4 columns</p>\n",
       "</div>"
      ],
      "text/plain": [
       "       Temperature_Kelvin  Windspeed  TSA_Mean  TSA_DHW\n",
       "0                  302.48        2.0     -1.53      0.0\n",
       "1                  302.48        2.0     -1.53      0.0\n",
       "2                  300.79        5.0     -1.48      0.0\n",
       "3                  300.79        5.0     -1.48      0.0\n",
       "4                  298.16        4.0     -2.80      0.0\n",
       "...                   ...        ...       ...      ...\n",
       "10589              300.58        1.0     -0.59      0.0\n",
       "10590              300.41        1.0     -0.67      0.0\n",
       "10591              300.41        1.0     -0.67      0.0\n",
       "10592              300.41        1.0     -0.67      0.0\n",
       "10593              300.41        1.0     -0.67      0.0\n",
       "\n",
       "[10389 rows x 4 columns]"
      ]
     },
     "execution_count": 71,
     "metadata": {},
     "output_type": "execute_result"
    }
   ],
   "source": [
    "# Drop rows that don't have a value for `Categorical_Percent_Bleached`\n",
    "coral_reef_data_df = coral_reef_data_df.dropna(subset = 'Categorical_Percent_Bleached')\n",
    "# Select features that can be used to classify. Are there any features that you wish to remove from our data?\n",
    "chosen_columns = [\n",
    "    'TSA_Mean', 'TSA_Frequency', 'TSA_Frequency_Standard_Deviation', 'TSA_FrequencyMax', 'TSA_FrequencyMean', \n",
    "    'TSA_DHW', 'TSA_DHW_Standard_Deviation', 'TSA_DHWMax', 'TSA_DHWMean', \n",
    "    'Temperature_Kelvin', 'Temperature_Mean', 'Temperature_Minimum', 'Temperature_Maximum', 'Temperature_Kelvin_Standard_Deviation', 'Windspeed', \n",
    "    'SSTA', 'SSTA_Standard_Deviation', 'SSTA_Mean', 'SSTA_Minimum', 'SSTA_Maximum', 'SSTA_Frequency', 'SSTA_Frequency_Standard_Deviation', 'SSTA_FrequencyMax', 'SSTA_FrequencyMean', \n",
    "    'SSTA_DHW', 'SSTA_DHW_Standard_Deviation', 'SSTA_DHWMax', 'SSTA_DHWMean'\n",
    "]\n",
    "print(chosen_columns)\n",
    "chosen_columns = temp_cols+wind_cols+ssta_measurment_cols\n",
    "features_df = coral_reef_data_df[chosen_columns]\n",
    "features_df"
   ]
  },
  {
   "cell_type": "markdown",
   "id": "857af563",
   "metadata": {},
   "source": [
    "### Data Normalization\n",
    "Normalization is a technique often applied as part of data preparation for machine learning. \n",
    "The goal of normalization is to change the values of numeric columns in the dataset to a common scale, \n",
    "without distorting differences in the ranges of values. For machine learning, every dataset does not require normalization. \n",
    "It is required only when features have different ranges.\n",
    "\n",
    "##### Challenge \n",
    "Do you have to nomalize the data? If yes, perform the normalization on the selected columns. If no continue on\n"
   ]
  },
  {
   "cell_type": "markdown",
   "id": "796ce449-f9c4-4fe9-8f25-1123200f9c7d",
   "metadata": {},
   "source": [
    "## Building our model\n",
    "When our model is ready it can take data as input and output if an area is bleached or not. Thus it is important that we create a full data set when traning the model, all our selected feature data will be given as `X`, and our truth `Categorical_Percent_Bleached` will be denoted as `y`. "
   ]
  },
  {
   "cell_type": "code",
   "execution_count": 97,
   "id": "6ebfd73e-9cfa-46ea-909c-b62ea219bfd6",
   "metadata": {},
   "outputs": [
    {
     "data": {
      "text/plain": [
       "(10385, 4)"
      ]
     },
     "execution_count": 97,
     "metadata": {},
     "output_type": "execute_result"
    }
   ],
   "source": [
    "full_df = coral_reef_data_df[chosen_columns + ['Categorical_Percent_Bleached']]\n",
    "full_df = full_df.dropna()\n",
    "X_df = full_df[chosen_columns]\n",
    "# Replace all NaN values with 0  ( should we drop nan instead?)\n",
    "X = X_df.to_numpy()\n",
    "X.shape\n",
    "\n",
    "# Normalize the data w standard scaling\n",
    "from sklearn import preprocessing\n",
    "std_scale = preprocessing.StandardScaler().fit(X)\n",
    "X_norm = std_scale.transform(X)"
   ]
  },
  {
   "cell_type": "code",
   "execution_count": 98,
   "id": "d658f090-d9fc-46a3-b39c-f64907dfb607",
   "metadata": {},
   "outputs": [
    {
     "data": {
      "text/plain": [
       "(10385,)"
      ]
     },
     "execution_count": 98,
     "metadata": {},
     "output_type": "execute_result"
    }
   ],
   "source": [
    "y_column = ['Categorical_Percent_Bleached']\n",
    "y_df = full_df[y_column]\n",
    "# Flatten the numpy array.\n",
    "y = y_df.to_numpy().ravel()\n",
    "y.shape"
   ]
  },
  {
   "cell_type": "markdown",
   "id": "1c413047-3af9-4ced-a326-487c16b1b30c",
   "metadata": {
    "tags": []
   },
   "source": [
    "## Classifying"
   ]
  },
  {
   "cell_type": "markdown",
   "id": "5c862d6c-ecfc-4785-9741-60926df65c17",
   "metadata": {},
   "source": [
    "When using a supervised algorithm to classify data, it is necessary to provide the classifier with the correct class for each row in the data used for training the classifier. We therefore need to split our data into a training- and a test-dataset. The training data will be used by the classifier optimize it's result. The test-data will be used to evaluate the classifier on data it has not seen before. \n",
    "\n",
    "Below we have chosen a classifier called Linear Discriminant Analysis. More information about this classifier can be found [here](https://scikit-learn.org/stable/modules/lda_qda.html#estimation-algorithms)."
   ]
  },
  {
   "cell_type": "code",
   "execution_count": 80,
   "id": "2332d744-fd76-44b3-a862-7f1b5eee1372",
   "metadata": {},
   "outputs": [],
   "source": [
    "from sklearn.discriminant_analysis import LinearDiscriminantAnalysis\n",
    "from sklearn.model_selection import train_test_split\n",
    "from sklearn.metrics import accuracy_score"
   ]
  },
  {
   "cell_type": "code",
   "execution_count": 99,
   "id": "a556f5eb-544f-41fa-87b9-1f6cde26f652",
   "metadata": {},
   "outputs": [],
   "source": [
    "# split the data into train and test\n",
    "X = np.nan_to_num(X)\n",
    "X_train, X_test, y_train, y_test = train_test_split(X, y, test_size=0.2, random_state=1)"
   ]
  },
  {
   "cell_type": "code",
   "execution_count": 100,
   "id": "9ae9f6cd-8a18-45c8-8392-1b63e8f40c17",
   "metadata": {},
   "outputs": [
    {
     "name": "stdout",
     "output_type": "stream",
     "text": [
      "accuracy = 0.5628310062590275\n"
     ]
    }
   ],
   "source": [
    "clf = LinearDiscriminantAnalysis()\n",
    "clf.fit(X_train, y_train)\n",
    "\n",
    "y_pred = clf.predict(X_test)\n",
    "\n",
    "\n",
    "accuracy = accuracy_score(y_true=y_test, y_pred=y_pred)\n",
    "print(f\"accuracy = {accuracy}\")\n"
   ]
  },
  {
   "cell_type": "markdown",
   "id": "b32610b6-5ce8-4dfc-a152-5bfd810e36d7",
   "metadata": {},
   "source": [
    "To find a good classifier, it can be necessary to try a few more, and to try to set the parameter of the classifier to something different. Below is a function that tests several classifiers. More information about the classifiers can be found [here](https://scikit-learn.org/stable/modules/multiclass.html)."
   ]
  },
  {
   "cell_type": "code",
   "execution_count": 101,
   "id": "3ab68e7c-fabd-497a-830b-6d1c4a36e773",
   "metadata": {},
   "outputs": [
    {
     "name": "stdout",
     "output_type": "stream",
     "text": [
      "LDA \t accuracy = 0.5628310062590275\n",
      "BernoulliNB \t accuracy = 0.5690900337024555\n",
      "GaussianNB \t accuracy = 0.5618680789600385\n",
      "DecisionTreeClassifier \t accuracy = 0.5469427058257101\n",
      "KNeighborsClassifier \t accuracy = 0.561386615310544\n",
      "QDA \t accuracy = 0.5666827154549832\n",
      "RandomForestClassifier \t accuracy = 0.5570534424650939\n",
      "SVC \t accuracy = 0.5690900337024555\n",
      "\n",
      "\n",
      "BEST ACCURACY = 0.5690900337024555 \t BernoulliNB\n"
     ]
    }
   ],
   "source": [
    "from sklearn.discriminant_analysis import LinearDiscriminantAnalysis, QuadraticDiscriminantAnalysis\n",
    "from sklearn.naive_bayes import BernoulliNB, GaussianNB\n",
    "from sklearn.tree import DecisionTreeClassifier\n",
    "from sklearn.neighbors import KNeighborsClassifier\n",
    "from sklearn.svm import SVC, LinearSVC #(setting multi_class=”crammer_singer”)\n",
    "from sklearn.ensemble import RandomForestClassifier\n",
    "\n",
    "\n",
    "def evaluate_classifier(clf, name):\n",
    "    clf.fit(X_train, y_train)\n",
    "    y_pred = clf.predict(X_test)\n",
    "\n",
    "    accuracy = accuracy_score(y_true=y_test, y_pred=y_pred)\n",
    "    print(f\"{name} \\t accuracy = {accuracy}\")\n",
    "    return accuracy, name\n",
    "\n",
    "\n",
    "def evaluate_classifiers(classifiers, names):\n",
    "    best_accuracy = 0\n",
    "    best_accuracy_clf = None\n",
    "    for clf, name in zip(classifiers, names):\n",
    "        accuracy, clf_name = evaluate_classifier(clf, name)\n",
    "        if accuracy > best_accuracy:\n",
    "            best_accuracy = accuracy \n",
    "            best_accuracy_clf = clf_name\n",
    "    print(f\"\\n\\nBEST ACCURACY = {best_accuracy} \\t {best_accuracy_clf}\")\n",
    "        \n",
    "classifiers = [LinearDiscriminantAnalysis(), BernoulliNB(), GaussianNB(), DecisionTreeClassifier(), KNeighborsClassifier(n_neighbors=3), QuadraticDiscriminantAnalysis(), RandomForestClassifier(), SVC()]\n",
    "names =       ['LDA',                       'BernoulliNB', 'GaussianNB','DecisionTreeClassifier',  'KNeighborsClassifier',             'QDA',                           'RandomForestClassifier', 'SVC']\n",
    "\n",
    "evaluate_classifiers(classifiers, names)"
   ]
  }
 ],
 "metadata": {
  "kernelspec": {
   "display_name": "Python 3 (ipykernel)",
   "language": "python",
   "name": "python3"
  },
  "language_info": {
   "codemirror_mode": {
    "name": "ipython",
    "version": 3
   },
   "file_extension": ".py",
   "mimetype": "text/x-python",
   "name": "python",
   "nbconvert_exporter": "python",
   "pygments_lexer": "ipython3",
   "version": "3.9.12"
  }
 },
 "nbformat": 4,
 "nbformat_minor": 5
}
